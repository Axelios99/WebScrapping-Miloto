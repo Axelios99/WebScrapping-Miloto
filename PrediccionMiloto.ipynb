{
 "cells": [
  {
   "cell_type": "markdown",
   "id": "80c66f74-fd3e-4b3e-bdc2-5f1441f4e80b",
   "metadata": {},
   "source": [
    "--------------------------WEB SCRAPING----------------------"
   ]
  },
  {
   "cell_type": "code",
   "execution_count": 1,
   "id": "04550a21-8216-42ce-be21-ae65497f0409",
   "metadata": {},
   "outputs": [],
   "source": [
    "#Libraries\n",
    "import requests\n",
    "from bs4 import BeautifulSoup\n",
    "import datetime\n",
    "import pandas as pd\n",
    "import re\n",
    "import time\n",
    "import random"
   ]
  },
  {
   "cell_type": "code",
   "execution_count": 2,
   "id": "56be1bac-7d30-4699-8747-07f2c467a830",
   "metadata": {
    "scrolled": true
   },
   "outputs": [
    {
     "name": "stdout",
     "output_type": "stream",
     "text": [
      "Number_rows: 47\n",
      "    NumberRow        Date  Ball1  Ball2  Ball3  Ball4  Ball5\n",
      "0           1  20-10-2023     10     11     18     32     38\n",
      "1           2  23-10-2023     10     11     16     26     28\n",
      "2           3  24-10-2023      5      9     19     28     34\n",
      "3           4  26-10-2023      4      9     21     30     35\n",
      "4           5  27-10-2023      7     12     21     30     32\n",
      "5           6  30-10-2023      1      3      8     11     26\n",
      "6           7  31-10-2023      1     11     12     19     30\n",
      "7           8  02-11-2023      1      4     15     22     30\n",
      "8           9  03-11-2023      8     22     25     35     36\n",
      "9          10  06-11-2023      7     12     21     28     37\n",
      "10         11  07-11-2023     13     16     21     25     34\n",
      "11         12  09-11-2023     11     20     27     33     37\n",
      "12         13  10-11-2023      3      6     14     19     38\n",
      "13         14  13-11-2023      9     11     12     32     38\n",
      "14         15  14-11-2023      1      3     17     20     38\n",
      "15         16  16-11-2023      6      7     11     23     36\n",
      "16         17  17-11-2023      8     18     31     33     34\n",
      "17         18  20-11-2023      1      4      6      7     37\n",
      "18         19  21-11-2023      5     19     23     31     38\n",
      "19         20  23-11-2023     13     23     27     33     37\n",
      "20         21  24-11-2023      8     10     18     38     39\n",
      "21         22  27-11-2023      8     23     27     29     35\n",
      "22         23  28-11-2023      3     14     23     28     29\n",
      "23         24  30-11-2023      6     12     15     27     39\n",
      "24         25  01-12-2023      2      3     10     16     28\n",
      "25         26  04-12-2023      9     11     25     31     36\n",
      "26         27  05-12-2023      3      6     14     17     20\n",
      "27         28  07-12-2023      7     17     19     33     34\n",
      "28         29  08-12-2023     21     23     29     31     34\n",
      "29         30  11-12-2023      7      8     21     22     34\n",
      "30         31  12-12-2023      7      9     13     24     30\n",
      "31         32  14-12-2023      4     10     17     29     38\n",
      "32         33  15-12-2023      9     13     18     23     25\n",
      "33         34  18-12-2023      2      6     19     26     34\n",
      "34         35  19-12-2023      7     14     20     21     37\n",
      "35         36  21-12-2023      9     10     13     15     34\n",
      "36         37  22-12-2023      8     17     25     29     30\n",
      "37         38  25-12-2023      3      7      8     24     28\n",
      "38         39  26-12-2023      3      5     17     25     29\n",
      "39         40  28-12-2023      1      2      3      6     26\n",
      "40         41  29-12-2023     19     24     25     27     31\n",
      "41         42  01-01-2024     15     17     21     26     34\n",
      "42         43  02-01-2024      2      6     13     17     37\n",
      "43         44  04-01-2024      8     14     15     21     33\n",
      "44         45  05-01-2024      5      9     22     24     31\n",
      "45         46  08-01-2024      3      8     13     28     30\n",
      "46         47  09-01-2024      3     15     17     20     23\n"
     ]
    }
   ],
   "source": [
    "#Read CSV database\n",
    "try:\n",
    "    df_csv = pd.read_csv(\"balls_results.csv\")\n",
    "    number_rows = df_csv.shape[0]\n",
    "    print(\"Number_rows: \"+str(number_rows))\n",
    "    #Take all the dataframe csv\n",
    "    df_results = df_csv\n",
    "    print(df_results)\n",
    "except Exception as e:\n",
    "    number_rows = 0\n",
    "    print(\"It will create a new file of database because: \"+str(e))\n",
    "    df_results = pd.DataFrame(columns=['NumberRow', 'Date', 'Ball1', 'Ball2', 'Ball3', 'Ball4', 'Ball5'])\n",
    "    "
   ]
  },
  {
   "cell_type": "code",
   "execution_count": 3,
   "id": "80cb061e-4f1d-4d20-b481-1d26a62d0a6a",
   "metadata": {},
   "outputs": [],
   "source": [
    "#Function Dates\n",
    "def extract_dates (soup):\n",
    "\n",
    "    # Dictionary months to numbers\n",
    "    month_to_number = {\n",
    "        'ENERO': '01',\n",
    "        'FEBRERO': '02',\n",
    "        'MARZO': '03',\n",
    "        'ABRIL': '04',\n",
    "        'MAYO': '05',\n",
    "        'JUNIO': '06',\n",
    "        'JULIO': '07',\n",
    "        'AGOSTO': '08',\n",
    "        'SEPTIEMBRE': '09',\n",
    "        'OCTUBRE': '10',\n",
    "        'NOVIEMBRE': '11',\n",
    "        'DICIEMBRE': '12'\n",
    "    }\n",
    "    date = soup.find('div', class_='fs-5')\n",
    "    date = date.text.strip()\n",
    "    pattern_dates = r\"(\\d+ de \\w+ de \\d{4})\"\n",
    "    date = re.search(pattern_dates, date)\n",
    "    if date:\n",
    "        date = date.group(1)\n",
    "        date = date.upper()\n",
    "        date = date.replace(\" \", \"\")\n",
    "        date = date.replace(\"DE\", \"-\")\n",
    "        # split string\n",
    "        parts = date.split('-')\n",
    "        \n",
    "        # get number of months\n",
    "        month = parts[1].upper()\n",
    "        month = month_to_number.get(month)\n",
    "        date = f\"{parts[0]}-{month}-{parts[2]}\"\n",
    "    else:\n",
    "        date = 'NULL'\n",
    "    return date"
   ]
  },
  {
   "cell_type": "code",
   "execution_count": 4,
   "id": "47bdbdd8-5f45-4964-a2b7-21093e5c2495",
   "metadata": {
    "scrolled": true
   },
   "outputs": [
    {
     "name": "stdout",
     "output_type": "stream",
     "text": [
      " NumberRow       Date  Ball1  Ball2  Ball3  Ball4  Ball5\n",
      "         1 20-10-2023     10     11     18     32     38\n",
      "         2 23-10-2023     10     11     16     26     28\n",
      "         3 24-10-2023      5      9     19     28     34\n",
      "         4 26-10-2023      4      9     21     30     35\n",
      "         5 27-10-2023      7     12     21     30     32\n",
      "         6 30-10-2023      1      3      8     11     26\n",
      "         7 31-10-2023      1     11     12     19     30\n",
      "         8 02-11-2023      1      4     15     22     30\n",
      "         9 03-11-2023      8     22     25     35     36\n",
      "        10 06-11-2023      7     12     21     28     37\n",
      "        11 07-11-2023     13     16     21     25     34\n",
      "        12 09-11-2023     11     20     27     33     37\n",
      "        13 10-11-2023      3      6     14     19     38\n",
      "        14 13-11-2023      9     11     12     32     38\n",
      "        15 14-11-2023      1      3     17     20     38\n",
      "        16 16-11-2023      6      7     11     23     36\n",
      "        17 17-11-2023      8     18     31     33     34\n",
      "        18 20-11-2023      1      4      6      7     37\n",
      "        19 21-11-2023      5     19     23     31     38\n",
      "        20 23-11-2023     13     23     27     33     37\n",
      "        21 24-11-2023      8     10     18     38     39\n",
      "        22 27-11-2023      8     23     27     29     35\n",
      "        23 28-11-2023      3     14     23     28     29\n",
      "        24 30-11-2023      6     12     15     27     39\n",
      "        25 01-12-2023      2      3     10     16     28\n",
      "        26 04-12-2023      9     11     25     31     36\n",
      "        27 05-12-2023      3      6     14     17     20\n",
      "        28 07-12-2023      7     17     19     33     34\n",
      "        29 08-12-2023     21     23     29     31     34\n",
      "        30 11-12-2023      7      8     21     22     34\n",
      "        31 12-12-2023      7      9     13     24     30\n",
      "        32 14-12-2023      4     10     17     29     38\n",
      "        33 15-12-2023      9     13     18     23     25\n",
      "        34 18-12-2023      2      6     19     26     34\n",
      "        35 19-12-2023      7     14     20     21     37\n",
      "        36 21-12-2023      9     10     13     15     34\n",
      "        37 22-12-2023      8     17     25     29     30\n",
      "        38 25-12-2023      3      7      8     24     28\n",
      "        39 26-12-2023      3      5     17     25     29\n",
      "        40 28-12-2023      1      2      3      6     26\n",
      "        41 29-12-2023     19     24     25     27     31\n",
      "        42 01-01-2024     15     17     21     26     34\n",
      "        43 02-01-2024      2      6     13     17     37\n",
      "        44 04-01-2024      8     14     15     21     33\n",
      "        45 05-01-2024      5      9     22     24     31\n",
      "        46 08-01-2024      3      8     13     28     30\n",
      "        47 09-01-2024      3     15     17     20     23\n"
     ]
    }
   ],
   "source": [
    "#Extract balls\n",
    "counter_results = number_rows\n",
    "response_status = True\n",
    "\n",
    "#Create URL\n",
    "while(response_status):\n",
    "    counter_results = counter_results+1\n",
    "    url = 'https://baloto.com/miloto/resultados-miloto/'\n",
    "    url = url + '/' + str(counter_results)\n",
    "    response = requests.get(url)\n",
    "    #Convert all in html\n",
    "    soup = BeautifulSoup(response.content, 'html.parser')\n",
    "    \n",
    "    #If response is 200 (ok)\n",
    "    if(response.status_code == 200):\n",
    "        balls = []\n",
    "        #Insert the row number\n",
    "        number_row = counter_results\n",
    "        #Insert the dates\n",
    "        date = extract_dates(soup)\n",
    "        #Insert the balls\n",
    "        counter_balls = 0\n",
    "        for ball in soup.find_all(class_='yellow-ball'):\n",
    "            counter_balls = counter_balls+1\n",
    "            balls.append(ball.text.strip())\n",
    "        #Insert new row\n",
    "        df_results.loc[len(df_results)] = [number_row, date, balls[0], balls[1], balls[2], balls[3], balls[4]]\n",
    "    else:\n",
    "        response_status = False\n",
    "    # Wait time\n",
    "    time.sleep(random.randint(1, 5))\n",
    "print(df_results.to_string(index=False))\n",
    "\n",
    "    \n",
    "    #df_results.append(balls, ignore_index=True)\n",
    "    #print(df_results)"
   ]
  },
  {
   "cell_type": "code",
   "execution_count": 5,
   "id": "76cc8622-2644-43c8-9fa5-cbc20ce119a8",
   "metadata": {},
   "outputs": [],
   "source": [
    "df_results.to_csv('balls_results.csv', index=False)"
   ]
  },
  {
   "cell_type": "markdown",
   "id": "8c9e4ae1-abf7-4764-9f30-83ce0db3e4d9",
   "metadata": {},
   "source": [
    "--------------------------------ANALYTICS--------------------------------"
   ]
  },
  {
   "cell_type": "code",
   "execution_count": 6,
   "id": "5ec115d2-0f2d-46a0-bef8-5b90859543ca",
   "metadata": {},
   "outputs": [],
   "source": [
    "import pandas as pd\n",
    "import matplotlib.pyplot as plt\n",
    "\n",
    "df_analytics = pd.read_csv(\"balls_results.csv\")\n",
    "df_frequency = df_analytics.drop(['NumberRow', 'Date'], axis=1)\n",
    "df_probability = df_analytics.drop(['NumberRow', 'Date'], axis=1)"
   ]
  },
  {
   "cell_type": "markdown",
   "id": "481c3a4f-ec60-4c82-a7d1-b6c48ad2efae",
   "metadata": {},
   "source": [
    "-----------ANALYTICS FREQUENCY----------------"
   ]
  },
  {
   "cell_type": "code",
   "execution_count": 7,
   "id": "0e05b229-b609-43e6-b310-c987c190d659",
   "metadata": {},
   "outputs": [
    {
     "name": "stdout",
     "output_type": "stream",
     "text": [
      "3     11\n",
      "8     10\n",
      "17     9\n",
      "7      9\n",
      "21     9\n",
      "34     9\n",
      "23     8\n",
      "11     8\n",
      "6      8\n",
      "9      8\n",
      "30     7\n",
      "13     7\n",
      "25     7\n",
      "19     7\n",
      "28     7\n",
      "38     7\n",
      "29     6\n",
      "37     6\n",
      "1      6\n",
      "15     6\n",
      "31     6\n",
      "10     6\n",
      "20     5\n",
      "33     5\n",
      "14     5\n",
      "12     5\n",
      "26     5\n",
      "27     5\n",
      "22     4\n",
      "4      4\n",
      "2      4\n",
      "24     4\n",
      "5      4\n",
      "18     4\n",
      "32     3\n",
      "35     3\n",
      "16     3\n",
      "36     3\n",
      "39     2\n",
      "Name: Número, dtype: int64\n"
     ]
    },
    {
     "data": {
      "image/png": "[encoded data removed]",
      "text/plain": [
       "<Figure size 640x480 with 1 Axes>"
      ]
     },
     "metadata": {},
     "output_type": "display_data"
    }
   ],
   "source": [
    "# Reestructurar los datos\n",
    "df_frequency = df_frequency.melt(var_name='Sorteo', value_name='Número')\n",
    "\n",
    "# Análisis de frecuencia\n",
    "frequency = df_frequency['Número'].value_counts()\n",
    "\n",
    "# Ordenar por frecuencia\n",
    "frequency  = frequency.sort_values(ascending=False)\n",
    "\n",
    "# Mostrar resultados\n",
    "print(frequency)\n",
    "\n",
    "# Visualización\n",
    "frequency.plot(kind='bar')\n",
    "plt.title('Frecuencia de Números de Lotería')\n",
    "plt.xlabel('Número de Balota')\n",
    "plt.ylabel('Frecuencia')\n",
    "plt.show()"
   ]
  },
  {
   "cell_type": "markdown",
   "id": "9139333f-7e39-4003-8770-8adee455d581",
   "metadata": {},
   "source": [
    "-----------ANALYTICS PROBABILITY----------------"
   ]
  },
  {
   "cell_type": "code",
   "execution_count": 8,
   "id": "2cdb435b-0474-4588-81a2-c3b90ee226af",
   "metadata": {},
   "outputs": [
    {
     "data": {
      "image/png": "[encoded data removed]",
      "text/plain": [
       "<Figure size 1200x600 with 1 Axes>"
      ]
     },
     "metadata": {},
     "output_type": "display_data"
    }
   ],
   "source": [
    "# Aplanar todos los números en una sola serie\n",
    "all_numbers = df_probability.values.flatten()\n",
    "\n",
    "# Calcular frecuencias\n",
    "frequency = pd.Series(all_numbers).value_counts()\n",
    "\n",
    "# Convertir frecuencias a probabilidades\n",
    "probability = frequency / frequency.sum()\n",
    "\n",
    "# Ordenar los resultados\n",
    "probability = probability.sort_values(ascending=False)\n",
    "\n",
    "# Visualización\n",
    "probability.plot(kind='bar', figsize=(12, 6))\n",
    "plt.title('Probabilidad de Aparición de Cada Número')\n",
    "plt.xlabel('Número')\n",
    "plt.ylabel('Probabilidad')\n",
    "plt.show()"
   ]
  },
  {
   "cell_type": "code",
   "execution_count": null,
   "id": "6532a804-bbae-4506-bb82-f57d706cf2c7",
   "metadata": {},
   "outputs": [],
   "source": []
  }
 ],
 "metadata": {
  "kernelspec": {
   "display_name": "Python 3 (ipykernel)",
   "language": "python",
   "name": "python3"
  },
  "language_info": {
   "codemirror_mode": {
    "name": "ipython",
    "version": 3
   },
   "file_extension": ".py",
   "mimetype": "text/x-python",
   "name": "python",
   "nbconvert_exporter": "python",
   "pygments_lexer": "ipython3",
   "version": "3.11.7"
  }
 },
 "nbformat": 4,
 "nbformat_minor": 5
}
